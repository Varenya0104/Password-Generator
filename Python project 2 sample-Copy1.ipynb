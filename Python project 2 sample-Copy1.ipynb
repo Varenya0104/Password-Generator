{
 "cells": [
  {
   "cell_type": "code",
   "execution_count": 3,
   "id": "7d1416a8",
   "metadata": {},
   "outputs": [
    {
     "name": "stdout",
     "output_type": "stream",
     "text": [
      "Enter the required length of the password12\n",
      "ZiWZco4Z1=5G\n"
     ]
    }
   ],
   "source": [
    "import random\n",
    "import array\n",
    "MAX_LEN = int(input(\"Enter the required length of the password\"))\n",
    "digits = ['0', '1', '2', '3', '4', '5', '6', '7', '8', '9']\n",
    "lowercase_characters = ['a', 'b', 'c', 'd', 'e', 'f', 'g', 'h','i', 'j', 'k', 'm', 'n', 'o', 'p', 'q','r', 's', 't', 'u', 'v', 'w', 'x', 'y','z']\n",
    "uppercase_characters = ['A', 'B', 'C', 'D', 'E', 'F', 'G', 'H','I', 'J', 'K', 'M', 'N', 'O', 'P', 'Q','R', 'S', 'T', 'U', 'V', 'W', 'X', 'Y','Z']\n",
    "symbols = ['@', '#', '$', '%', '=', ':', '?', '.', '/', '|', '~', '>','*', '(', ')', '<']\n",
    "combined_list = digits + uppercase_characters + lowercase_characters + symbols\n",
    "rand_digit = random.choice(digits)\n",
    "rand_upper = random.choice(uppercase_characters)\n",
    "rand_lower = random.choice(lowercase_characters)\n",
    "rand_symbol = random.choice(symbols)\n",
    "temp_pass = rand_digit + rand_upper + rand_lower + rand_symbol\n",
    "for x in range(MAX_LEN - 4):\n",
    "    temp_pass = temp_pass + random.choice(combined_list)\n",
    "    temp_pass_list = array.array('u', temp_pass)\n",
    "    random.shuffle(temp_pass_list)\n",
    "password = \"\"\n",
    "for x in temp_pass_list:\n",
    "    password = password + x\n",
    "print(password)"
   ]
  },
  {
   "cell_type": "code",
   "execution_count": null,
   "id": "48dd7f65",
   "metadata": {},
   "outputs": [],
   "source": []
  }
 ],
 "metadata": {
  "kernelspec": {
   "display_name": "Python 3",
   "language": "python",
   "name": "python3"
  },
  "language_info": {
   "codemirror_mode": {
    "name": "ipython",
    "version": 3
   },
   "file_extension": ".py",
   "mimetype": "text/x-python",
   "name": "python",
   "nbconvert_exporter": "python",
   "pygments_lexer": "ipython3",
   "version": "3.8.8"
  }
 },
 "nbformat": 4,
 "nbformat_minor": 5
}
